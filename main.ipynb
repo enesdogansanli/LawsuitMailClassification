{
 "cells": [
  {
   "attachments": {},
   "cell_type": "markdown",
   "metadata": {},
   "source": [
    "MACHINE LEARNING CASE MAIL CLASSFICATION"
   ]
  },
  {
   "cell_type": "code",
   "execution_count": 2,
   "metadata": {},
   "outputs": [
    {
     "name": "stdout",
     "output_type": "stream",
     "text": [
      "\t 1 – (1) Bu Kanun, ceza muhakemesinin nasıl yapılacağı hususundaki kurallar\n",
      "ile bu sürece katılan kişilerin hak, yetki ve yükümlülüklerini düzenler.\n",
      "\n",
      "\n",
      "          Tanımlar\n",
      "          \n",
      "Ceza_Muhakemesi_Kanunu\t002\n"
     ]
    }
   ],
   "source": [
    "with open('data.txt','r',encoding='utf8') as datafile:\n",
    "    metin = datafile.read()\n",
    "    ayrilma = metin.split('.txt')\n",
    "    print(ayrilma[1])\n",
    "\n",
    "    # for row in datafile:\n",
    "    #     parts =row.split('.txt')"
   ]
  },
  {
   "cell_type": "code",
   "execution_count": 9,
   "metadata": {},
   "outputs": [
    {
     "name": "stdout",
     "output_type": "stream",
     "text": [
      "\t 1 – (1) Bu Kanun, ceza muhakemesinin nasıl yapılacağı hususundaki kurallar\n",
      "ile bu sürece katılan kişilerin hak, yetki ve yükümlülüklerini düzenler.\n",
      "\n",
      "\n",
      "          Tanımlar\n",
      "          \n",
      "Ceza_Muhakemesi_Kanunu\t002\n"
     ]
    }
   ],
   "source": [
    "import re\n",
    "deneme = ayrilma[1]\n",
    "print(deneme)"
   ]
  },
  {
   "cell_type": "code",
   "execution_count": 14,
   "metadata": {},
   "outputs": [],
   "source": [
    "Lawlist = ['Ceza_Muhakemesi_Kanunu','Hukuk_Muhakemeleri_Kanunu','Icra_Iflas_Kanunu','Turk_Borclar_Kanunu','Turk_Ceza_Kanunu','Turk_Medeni_Kanunu','Turk_Ticaret_Kanunu']\n",
    "\n",
    "documents = {'Ceza_Muhakemesi_Kanunu': (330,'Madde'),\n",
    "            'Hukuk_Muhakemeleri_Kanunu': (440,'MADDE'),\n",
    "            'Icra_Iflas_Kanunu':(360,'Madde'),\n",
    "            'Turk_Borclar_Kanunu':(630,'MADDE'),\n",
    "            'Turk_Ceza_Kanunu':(340,'Madde'),\n",
    "            'Turk_Medeni_Kanunu':(998,'Madde'),\n",
    "            'Turk_Ticaret_Kanunu':(998,'MADDE')}"
   ]
  },
  {
   "cell_type": "code",
   "execution_count": 29,
   "metadata": {},
   "outputs": [],
   "source": [
    "import pandas as pd\n",
    "\n",
    "mylist1 = [] # Title\n",
    "mylist2 = [] # Text\n",
    "\n",
    "for i in range(len(Lawlist)):\n",
    "    for j in range(1,documents[Lawlist[i]][0]):\n",
    "        if j<10:\n",
    "            with open('data/{}/00{}.txt'.format(Lawlist[i],j),\"r\",encoding='utf8') as d:\n",
    "                oku = d.read()\n",
    "                mylist1.append(Lawlist[i])\n",
    "                mylist2.append(oku)\n",
    "        elif 9<j<100:\n",
    "            with open('data/{}/0{}.txt'.format(Lawlist[i],j),\"r\",encoding='utf8') as d:\n",
    "                oku = d.read()\n",
    "                mylist1.append(Lawlist[i])\n",
    "                mylist2.append(oku)\n",
    "        else:\n",
    "            with open('data/{}/{}.txt'.format(Lawlist[i],j),\"r\",encoding='utf8') as d:\n",
    "                oku = d.read()\n",
    "                mylist1.append(Lawlist[i])\n",
    "                mylist2.append(oku)\n",
    "\n",
    "df = pd.DataFrame(list(zip(mylist1, mylist2)),\n",
    "               columns =['Class', 'Text'])"
   ]
  },
  {
   "cell_type": "code",
   "execution_count": 40,
   "metadata": {},
   "outputs": [
    {
     "data": {
      "text/plain": [
       "Turk_Medeni_Kanunu           997\n",
       "Turk_Ticaret_Kanunu          997\n",
       "Turk_Borclar_Kanunu          629\n",
       "Hukuk_Muhakemeleri_Kanunu    439\n",
       "Icra_Iflas_Kanunu            359\n",
       "Turk_Ceza_Kanunu             339\n",
       "Ceza_Muhakemesi_Kanunu       329\n",
       "Name: Class, dtype: int64"
      ]
     },
     "execution_count": 40,
     "metadata": {},
     "output_type": "execute_result"
    }
   ],
   "source": [
    "df['Class'].value_counts()"
   ]
  },
  {
   "cell_type": "code",
   "execution_count": 50,
   "metadata": {},
   "outputs": [
    {
     "data": {
      "text/plain": [
       "4089"
      ]
     },
     "execution_count": 50,
     "metadata": {},
     "output_type": "execute_result"
    }
   ],
   "source": [
    "len(df)"
   ]
  },
  {
   "cell_type": "code",
   "execution_count": 47,
   "metadata": {},
   "outputs": [
    {
     "name": "stdout",
     "output_type": "stream",
     "text": [
      "4089\n"
     ]
    },
    {
     "ename": "ValueError",
     "evalue": "too many values to unpack (expected 2)",
     "output_type": "error",
     "traceback": [
      "\u001b[1;31m---------------------------------------------------------------------------\u001b[0m",
      "\u001b[1;31mValueError\u001b[0m                                Traceback (most recent call last)",
      "\u001b[1;32md:\\GitHub\\LawsuitMailClassification\\main.ipynb Cell 7\u001b[0m in \u001b[0;36m<cell line: 2>\u001b[1;34m()\u001b[0m\n\u001b[0;32m      <a href='vscode-notebook-cell:/d%3A/GitHub/LawsuitMailClassification/main.ipynb#X12sZmlsZQ%3D%3D?line=0'>1</a>\u001b[0m \u001b[39mprint\u001b[39m(\u001b[39mlen\u001b[39m(df[\u001b[39m'\u001b[39m\u001b[39mClass\u001b[39m\u001b[39m'\u001b[39m]))\n\u001b[1;32m----> <a href='vscode-notebook-cell:/d%3A/GitHub/LawsuitMailClassification/main.ipynb#X12sZmlsZQ%3D%3D?line=1'>2</a>\u001b[0m \u001b[39mfor\u001b[39;00m i,j \u001b[39min\u001b[39;00m df[\u001b[39m'\u001b[39m\u001b[39mClass\u001b[39m\u001b[39m'\u001b[39m],df[\u001b[39m'\u001b[39m\u001b[39mText\u001b[39m\u001b[39m'\u001b[39m]:\n\u001b[0;32m      <a href='vscode-notebook-cell:/d%3A/GitHub/LawsuitMailClassification/main.ipynb#X12sZmlsZQ%3D%3D?line=2'>3</a>\u001b[0m     \u001b[39mprint\u001b[39m(i)\n",
      "\u001b[1;31mValueError\u001b[0m: too many values to unpack (expected 2)"
     ]
    }
   ],
   "source": [
    "\n",
    "\n",
    "print(len(df['Class']))\n",
    "for i,j in (df['Class'],df['Text']):\n",
    "    print(i)"
   ]
  },
  {
   "cell_type": "code",
   "execution_count": 30,
   "metadata": {},
   "outputs": [],
   "source": [
    "df = pd.DataFrame(list(zip(mylist1, mylist2)),\n",
    "               columns =['Class', 'Text'])"
   ]
  },
  {
   "cell_type": "code",
   "execution_count": 31,
   "metadata": {},
   "outputs": [
    {
     "data": {
      "text/html": [
       "<div>\n",
       "<style scoped>\n",
       "    .dataframe tbody tr th:only-of-type {\n",
       "        vertical-align: middle;\n",
       "    }\n",
       "\n",
       "    .dataframe tbody tr th {\n",
       "        vertical-align: top;\n",
       "    }\n",
       "\n",
       "    .dataframe thead th {\n",
       "        text-align: right;\n",
       "    }\n",
       "</style>\n",
       "<table border=\"1\" class=\"dataframe\">\n",
       "  <thead>\n",
       "    <tr style=\"text-align: right;\">\n",
       "      <th></th>\n",
       "      <th>Class</th>\n",
       "      <th>Text</th>\n",
       "    </tr>\n",
       "  </thead>\n",
       "  <tbody>\n",
       "    <tr>\n",
       "      <th>0</th>\n",
       "      <td>Ceza_Muhakemesi_Kanunu</td>\n",
       "      <td>1 – (1) Bu Kanun, ceza muhakemesinin nasıl ya...</td>\n",
       "    </tr>\n",
       "    <tr>\n",
       "      <th>1</th>\n",
       "      <td>Ceza_Muhakemesi_Kanunu</td>\n",
       "      <td>2 – (1) Bu Kanunun uygulanmasında;\\n         ...</td>\n",
       "    </tr>\n",
       "    <tr>\n",
       "      <th>2</th>\n",
       "      <td>Ceza_Muhakemesi_Kanunu</td>\n",
       "      <td>3 – (1) Mahkemelerin görevleri kanunla belirl...</td>\n",
       "    </tr>\n",
       "    <tr>\n",
       "      <th>3</th>\n",
       "      <td>Ceza_Muhakemesi_Kanunu</td>\n",
       "      <td>4 – (1) Davaya bakan mahkeme, görevli olup ol...</td>\n",
       "    </tr>\n",
       "    <tr>\n",
       "      <th>4</th>\n",
       "      <td>Ceza_Muhakemesi_Kanunu</td>\n",
       "      <td>5 – (1) İddianamenin kabulünden sonra; işin, ...</td>\n",
       "    </tr>\n",
       "  </tbody>\n",
       "</table>\n",
       "</div>"
      ],
      "text/plain": [
       "                    Class                                               Text\n",
       "0  Ceza_Muhakemesi_Kanunu   1 – (1) Bu Kanun, ceza muhakemesinin nasıl ya...\n",
       "1  Ceza_Muhakemesi_Kanunu   2 – (1) Bu Kanunun uygulanmasında;\\n         ...\n",
       "2  Ceza_Muhakemesi_Kanunu   3 – (1) Mahkemelerin görevleri kanunla belirl...\n",
       "3  Ceza_Muhakemesi_Kanunu   4 – (1) Davaya bakan mahkeme, görevli olup ol...\n",
       "4  Ceza_Muhakemesi_Kanunu   5 – (1) İddianamenin kabulünden sonra; işin, ..."
      ]
     },
     "execution_count": 31,
     "metadata": {},
     "output_type": "execute_result"
    }
   ],
   "source": [
    "df.head()"
   ]
  }
 ],
 "metadata": {
  "kernelspec": {
   "display_name": "Python 3",
   "language": "python",
   "name": "python3"
  },
  "language_info": {
   "codemirror_mode": {
    "name": "ipython",
    "version": 3
   },
   "file_extension": ".py",
   "mimetype": "text/x-python",
   "name": "python",
   "nbconvert_exporter": "python",
   "pygments_lexer": "ipython3",
   "version": "3.9.13"
  },
  "orig_nbformat": 4,
  "vscode": {
   "interpreter": {
    "hash": "e81f3eb113a4575374b4ec6b7269680492ed507ee7da4a22f49e975af020ad03"
   }
  }
 },
 "nbformat": 4,
 "nbformat_minor": 2
}
