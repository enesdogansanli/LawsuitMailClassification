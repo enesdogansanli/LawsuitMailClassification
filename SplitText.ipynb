{
 "cells": [
  {
   "cell_type": "code",
   "execution_count": 14,
   "metadata": {},
   "outputs": [
    {
     "name": "stdout",
     "output_type": "stream",
     "text": [
      "303\n",
      "304\n",
      "Madde 1 — (1) Bu Kanun, ceza muhakemesinin nasil yapilacafi hususundaki kurallar\n",
      "\n",
      "90\n",
      "ile bu siirece katilan kisilerin hak, yetki ve yiikiimliiliiklerimi diizenler.\n",
      "\n"
     ]
    }
   ],
   "source": [
    "# seek,find ve tell komutları kullanılarak bir işlem yapılabilir.\n",
    "# Dosya tarafında işlem yapmam gerekirse bu yapıdan faydalana bilirim.\n",
    "# Ama kar zarar hesabı yaptığım zaman çok efenktif olup olmayacağına bakmak gerek.\n",
    "# find komutu büyük küçük harf farkını anlıyor. \n",
    "\n",
    "\n",
    "with open('Ceza.txt',encoding='utf8') as f:\n",
    "    nerede = f.read().find(\"Madde\")\n",
    "    print(nerede)\n",
    "    f.seek(304)\n",
    "    pozisyon = f.tell()\n",
    "    print(pozisyon)\n",
    "    maddeli = f.readline()\n",
    "    print(maddeli)\n",
    "    nerede2 = f.read().find(\"Madde\")\n",
    "    print(nerede2)\n",
    "    f.seek(387)\n",
    "    maddeli2 = f.readline()\n",
    "    print(maddeli2)\n",
    "    # pozisyon = f.tell()\n",
    "    # print(pozisyon)\n",
    "    # for i in range(17):\n",
    "    #     contents = f.readline().find(\"Madde\")\n",
    "    #     if contents == 0:\n",
    "    #         maddeli = f.readline()\n",
    "    #         print(maddeli)\n",
    "    \n",
    "\n"
   ]
  },
  {
   "cell_type": "code",
   "execution_count": 1,
   "metadata": {},
   "outputs": [
    {
     "name": "stdout",
     "output_type": "stream",
     "text": [
      "303\n",
      "330964\n",
      "304\n",
      "<class 'str'>\n"
     ]
    }
   ],
   "source": [
    "# Tam olarak çalışmasa da bir format yapısı oluşturduk.\n",
    "# Sayısal imleç hatası var gibi. İmleç nerede sorusuna tam olarak cevap vererek işlem yapmak gerek.\n",
    "\n",
    "madde = 333\n",
    "olusturulan = 1\n",
    "with open('Ceza.txt',\"r\",encoding='utf8') as d:\n",
    "    baslangic = d.read().find(\"Madde\")\n",
    "    print(baslangic)\n",
    "    print(d.tell())\n",
    "    d.seek(baslangic+1)\n",
    "    print(d.tell())\n",
    "    with open('{}.txt'.format(olusturulan),'w') as n:\n",
    "        oku = d.readline()\n",
    "        print(type(oku))\n",
    "        n.write(oku)\n",
    "    while True:\n",
    "        pozisyonum = d.tell()\n",
    "        varmi = d.readline().find(\"Madde\")\n",
    "        if varmi ==0:\n",
    "            olusturulan = olusturulan+1\n",
    "            with open('{}.txt'.format(olusturulan),'w',encoding='utf8') as t:\n",
    "                d.seek(pozisyonum+1)\n",
    "                okuma = d.readline()\n",
    "                t.write(okuma)\n",
    "        elif varmi == -1:\n",
    "            with open('{}.txt'.format(olusturulan),'a',encoding='utf8') as z:\n",
    "                d.seek(pozisyonum+1)\n",
    "                oku = d.readline()\n",
    "                z.write(oku)\n",
    "        \n",
    "        if olusturulan==10:\n",
    "            break\n",
    "\n",
    "\n",
    "        "
   ]
  },
  {
   "cell_type": "code",
   "execution_count": 31,
   "metadata": {},
   "outputs": [],
   "source": [
    "dosya = open(\"denemem.txt\",\"w\")\n",
    "dosya.write(\"öYLlemi kardes\")\n",
    "dosya.close()\n",
    "dosya = open(\"denemem.txt\",\"w\")\n",
    "dosya.close()"
   ]
  },
  {
   "cell_type": "code",
   "execution_count": 7,
   "metadata": {},
   "outputs": [
    {
     "name": "stdout",
     "output_type": "stream",
     "text": [
      " 3 - (1) Mahkemelerin gérevleri kanunla belirlenir.\n",
      "(2) (Ek: 26/6/2009 — 5918/6 md.; Miilga:2/7/2018-KHK/700/159 md.)\n",
      "\n",
      "Re'sen gérev karan ve gérevde uyusmazhk\n",
      "\n",
      "\n"
     ]
    }
   ],
   "source": [
    "with open('Ceza.txt',\"r\",encoding='utf8') as d:\n",
    "    metin = d.read()\n",
    "    ayirma = metin.split('Madde')\n",
    "    print(ayirma[3])"
   ]
  }
 ],
 "metadata": {
  "kernelspec": {
   "display_name": "Python 3.9.13 64-bit",
   "language": "python",
   "name": "python3"
  },
  "language_info": {
   "codemirror_mode": {
    "name": "ipython",
    "version": 3
   },
   "file_extension": ".py",
   "mimetype": "text/x-python",
   "name": "python",
   "nbconvert_exporter": "python",
   "pygments_lexer": "ipython3",
   "version": "3.9.13 (tags/v3.9.13:6de2ca5, May 17 2022, 16:36:42) [MSC v.1929 64 bit (AMD64)]"
  },
  "orig_nbformat": 4,
  "vscode": {
   "interpreter": {
    "hash": "e81f3eb113a4575374b4ec6b7269680492ed507ee7da4a22f49e975af020ad03"
   }
  }
 },
 "nbformat": 4,
 "nbformat_minor": 2
}
